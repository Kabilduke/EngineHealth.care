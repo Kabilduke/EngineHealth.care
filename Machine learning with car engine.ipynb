{
 "cells": [
  {
   "cell_type": "markdown",
   "id": "39522c68",
   "metadata": {},
   "source": [
    "# Car Engine health prediction - Machine Learning 🏎️"
   ]
  },
  {
   "cell_type": "markdown",
   "id": "102ec4e6",
   "metadata": {},
   "source": [
    "### Importing the data"
   ]
  },
  {
   "cell_type": "code",
   "execution_count": 49,
   "id": "0d7176a6",
   "metadata": {},
   "outputs": [],
   "source": [
    "import pandas as pd\n",
    "import numpy as np\n",
    "import matplotlib.pyplot as plt\n",
    "import seaborn as sns\n",
    "import scipy.stats as st\n",
    "import pickle"
   ]
  },
  {
   "cell_type": "code",
   "execution_count": 2,
   "id": "21551110",
   "metadata": {},
   "outputs": [
    {
     "data": {
      "text/html": [
       "<div>\n",
       "<style scoped>\n",
       "    .dataframe tbody tr th:only-of-type {\n",
       "        vertical-align: middle;\n",
       "    }\n",
       "\n",
       "    .dataframe tbody tr th {\n",
       "        vertical-align: top;\n",
       "    }\n",
       "\n",
       "    .dataframe thead th {\n",
       "        text-align: right;\n",
       "    }\n",
       "</style>\n",
       "<table border=\"1\" class=\"dataframe\">\n",
       "  <thead>\n",
       "    <tr style=\"text-align: right;\">\n",
       "      <th></th>\n",
       "      <th>Engine rpm</th>\n",
       "      <th>Lub oil pressure</th>\n",
       "      <th>Fuel pressure</th>\n",
       "      <th>Coolant pressure</th>\n",
       "      <th>lub oil temp</th>\n",
       "      <th>Coolant temp</th>\n",
       "      <th>Engine Condition</th>\n",
       "    </tr>\n",
       "  </thead>\n",
       "  <tbody>\n",
       "    <tr>\n",
       "      <th>0</th>\n",
       "      <td>700</td>\n",
       "      <td>2.493592</td>\n",
       "      <td>11.790927</td>\n",
       "      <td>3.178981</td>\n",
       "      <td>84.144163</td>\n",
       "      <td>81.632187</td>\n",
       "      <td>1</td>\n",
       "    </tr>\n",
       "    <tr>\n",
       "      <th>1</th>\n",
       "      <td>876</td>\n",
       "      <td>2.941606</td>\n",
       "      <td>16.193866</td>\n",
       "      <td>2.464504</td>\n",
       "      <td>77.640934</td>\n",
       "      <td>82.445724</td>\n",
       "      <td>0</td>\n",
       "    </tr>\n",
       "    <tr>\n",
       "      <th>2</th>\n",
       "      <td>520</td>\n",
       "      <td>2.961746</td>\n",
       "      <td>6.553147</td>\n",
       "      <td>1.064347</td>\n",
       "      <td>77.752266</td>\n",
       "      <td>79.645777</td>\n",
       "      <td>1</td>\n",
       "    </tr>\n",
       "    <tr>\n",
       "      <th>3</th>\n",
       "      <td>473</td>\n",
       "      <td>3.707835</td>\n",
       "      <td>19.510172</td>\n",
       "      <td>3.727455</td>\n",
       "      <td>74.129907</td>\n",
       "      <td>71.774629</td>\n",
       "      <td>1</td>\n",
       "    </tr>\n",
       "    <tr>\n",
       "      <th>4</th>\n",
       "      <td>619</td>\n",
       "      <td>5.672919</td>\n",
       "      <td>15.738871</td>\n",
       "      <td>2.052251</td>\n",
       "      <td>78.396989</td>\n",
       "      <td>87.000225</td>\n",
       "      <td>0</td>\n",
       "    </tr>\n",
       "    <tr>\n",
       "      <th>5</th>\n",
       "      <td>1221</td>\n",
       "      <td>3.989226</td>\n",
       "      <td>6.679231</td>\n",
       "      <td>2.214250</td>\n",
       "      <td>76.401152</td>\n",
       "      <td>75.669818</td>\n",
       "      <td>0</td>\n",
       "    </tr>\n",
       "    <tr>\n",
       "      <th>6</th>\n",
       "      <td>716</td>\n",
       "      <td>3.568896</td>\n",
       "      <td>5.312266</td>\n",
       "      <td>2.461067</td>\n",
       "      <td>83.646589</td>\n",
       "      <td>79.792411</td>\n",
       "      <td>1</td>\n",
       "    </tr>\n",
       "    <tr>\n",
       "      <th>7</th>\n",
       "      <td>729</td>\n",
       "      <td>3.845166</td>\n",
       "      <td>10.191126</td>\n",
       "      <td>2.362998</td>\n",
       "      <td>77.921202</td>\n",
       "      <td>71.671761</td>\n",
       "      <td>1</td>\n",
       "    </tr>\n",
       "    <tr>\n",
       "      <th>8</th>\n",
       "      <td>845</td>\n",
       "      <td>4.877239</td>\n",
       "      <td>3.638269</td>\n",
       "      <td>3.525604</td>\n",
       "      <td>76.301626</td>\n",
       "      <td>70.496024</td>\n",
       "      <td>0</td>\n",
       "    </tr>\n",
       "    <tr>\n",
       "      <th>9</th>\n",
       "      <td>824</td>\n",
       "      <td>3.741228</td>\n",
       "      <td>7.626214</td>\n",
       "      <td>1.301032</td>\n",
       "      <td>77.066520</td>\n",
       "      <td>85.143297</td>\n",
       "      <td>0</td>\n",
       "    </tr>\n",
       "  </tbody>\n",
       "</table>\n",
       "</div>"
      ],
      "text/plain": [
       "   Engine rpm  Lub oil pressure  Fuel pressure  Coolant pressure  \\\n",
       "0         700          2.493592      11.790927          3.178981   \n",
       "1         876          2.941606      16.193866          2.464504   \n",
       "2         520          2.961746       6.553147          1.064347   \n",
       "3         473          3.707835      19.510172          3.727455   \n",
       "4         619          5.672919      15.738871          2.052251   \n",
       "5        1221          3.989226       6.679231          2.214250   \n",
       "6         716          3.568896       5.312266          2.461067   \n",
       "7         729          3.845166      10.191126          2.362998   \n",
       "8         845          4.877239       3.638269          3.525604   \n",
       "9         824          3.741228       7.626214          1.301032   \n",
       "\n",
       "   lub oil temp  Coolant temp  Engine Condition  \n",
       "0     84.144163     81.632187                 1  \n",
       "1     77.640934     82.445724                 0  \n",
       "2     77.752266     79.645777                 1  \n",
       "3     74.129907     71.774629                 1  \n",
       "4     78.396989     87.000225                 0  \n",
       "5     76.401152     75.669818                 0  \n",
       "6     83.646589     79.792411                 1  \n",
       "7     77.921202     71.671761                 1  \n",
       "8     76.301626     70.496024                 0  \n",
       "9     77.066520     85.143297                 0  "
      ]
     },
     "execution_count": 2,
     "metadata": {},
     "output_type": "execute_result"
    }
   ],
   "source": [
    "df = pd.read_csv(\"engine_data.csv\")\n",
    "df.head(10)"
   ]
  },
  {
   "cell_type": "code",
   "execution_count": 3,
   "id": "9deede22",
   "metadata": {},
   "outputs": [
    {
     "name": "stdout",
     "output_type": "stream",
     "text": [
      "<class 'pandas.core.frame.DataFrame'>\n",
      "RangeIndex: 19535 entries, 0 to 19534\n",
      "Data columns (total 7 columns):\n",
      " #   Column            Non-Null Count  Dtype  \n",
      "---  ------            --------------  -----  \n",
      " 0   Engine rpm        19535 non-null  int64  \n",
      " 1   Lub oil pressure  19535 non-null  float64\n",
      " 2   Fuel pressure     19535 non-null  float64\n",
      " 3   Coolant pressure  19535 non-null  float64\n",
      " 4   lub oil temp      19535 non-null  float64\n",
      " 5   Coolant temp      19535 non-null  float64\n",
      " 6   Engine Condition  19535 non-null  int64  \n",
      "dtypes: float64(5), int64(2)\n",
      "memory usage: 1.0 MB\n"
     ]
    }
   ],
   "source": [
    "df.info()"
   ]
  },
  {
   "cell_type": "code",
   "execution_count": 4,
   "id": "cbcf6e2f",
   "metadata": {},
   "outputs": [
    {
     "data": {
      "text/html": [
       "<div>\n",
       "<style scoped>\n",
       "    .dataframe tbody tr th:only-of-type {\n",
       "        vertical-align: middle;\n",
       "    }\n",
       "\n",
       "    .dataframe tbody tr th {\n",
       "        vertical-align: top;\n",
       "    }\n",
       "\n",
       "    .dataframe thead th {\n",
       "        text-align: right;\n",
       "    }\n",
       "</style>\n",
       "<table border=\"1\" class=\"dataframe\">\n",
       "  <thead>\n",
       "    <tr style=\"text-align: right;\">\n",
       "      <th></th>\n",
       "      <th>Engine rpm</th>\n",
       "      <th>Lub oil pressure</th>\n",
       "      <th>Fuel pressure</th>\n",
       "      <th>Coolant pressure</th>\n",
       "      <th>lub oil temp</th>\n",
       "      <th>Coolant temp</th>\n",
       "      <th>Engine Condition</th>\n",
       "    </tr>\n",
       "  </thead>\n",
       "  <tbody>\n",
       "    <tr>\n",
       "      <th>count</th>\n",
       "      <td>19535.000</td>\n",
       "      <td>19535.000</td>\n",
       "      <td>19535.000</td>\n",
       "      <td>19535.000</td>\n",
       "      <td>19535.000</td>\n",
       "      <td>19535.000</td>\n",
       "      <td>19535.000</td>\n",
       "    </tr>\n",
       "    <tr>\n",
       "      <th>mean</th>\n",
       "      <td>791.239</td>\n",
       "      <td>3.304</td>\n",
       "      <td>6.656</td>\n",
       "      <td>2.335</td>\n",
       "      <td>77.643</td>\n",
       "      <td>78.427</td>\n",
       "      <td>0.631</td>\n",
       "    </tr>\n",
       "    <tr>\n",
       "      <th>std</th>\n",
       "      <td>267.611</td>\n",
       "      <td>1.022</td>\n",
       "      <td>2.761</td>\n",
       "      <td>1.036</td>\n",
       "      <td>3.111</td>\n",
       "      <td>6.207</td>\n",
       "      <td>0.483</td>\n",
       "    </tr>\n",
       "    <tr>\n",
       "      <th>min</th>\n",
       "      <td>61.000</td>\n",
       "      <td>0.003</td>\n",
       "      <td>0.003</td>\n",
       "      <td>0.002</td>\n",
       "      <td>71.322</td>\n",
       "      <td>61.673</td>\n",
       "      <td>0.000</td>\n",
       "    </tr>\n",
       "    <tr>\n",
       "      <th>25%</th>\n",
       "      <td>593.000</td>\n",
       "      <td>2.519</td>\n",
       "      <td>4.917</td>\n",
       "      <td>1.600</td>\n",
       "      <td>75.726</td>\n",
       "      <td>73.895</td>\n",
       "      <td>0.000</td>\n",
       "    </tr>\n",
       "    <tr>\n",
       "      <th>50%</th>\n",
       "      <td>746.000</td>\n",
       "      <td>3.162</td>\n",
       "      <td>6.202</td>\n",
       "      <td>2.167</td>\n",
       "      <td>76.817</td>\n",
       "      <td>78.347</td>\n",
       "      <td>1.000</td>\n",
       "    </tr>\n",
       "    <tr>\n",
       "      <th>75%</th>\n",
       "      <td>934.000</td>\n",
       "      <td>4.055</td>\n",
       "      <td>7.745</td>\n",
       "      <td>2.849</td>\n",
       "      <td>78.072</td>\n",
       "      <td>82.915</td>\n",
       "      <td>1.000</td>\n",
       "    </tr>\n",
       "    <tr>\n",
       "      <th>max</th>\n",
       "      <td>2239.000</td>\n",
       "      <td>7.266</td>\n",
       "      <td>21.138</td>\n",
       "      <td>7.479</td>\n",
       "      <td>89.581</td>\n",
       "      <td>195.528</td>\n",
       "      <td>1.000</td>\n",
       "    </tr>\n",
       "  </tbody>\n",
       "</table>\n",
       "</div>"
      ],
      "text/plain": [
       "       Engine rpm  Lub oil pressure  Fuel pressure  Coolant pressure  \\\n",
       "count   19535.000         19535.000      19535.000         19535.000   \n",
       "mean      791.239             3.304          6.656             2.335   \n",
       "std       267.611             1.022          2.761             1.036   \n",
       "min        61.000             0.003          0.003             0.002   \n",
       "25%       593.000             2.519          4.917             1.600   \n",
       "50%       746.000             3.162          6.202             2.167   \n",
       "75%       934.000             4.055          7.745             2.849   \n",
       "max      2239.000             7.266         21.138             7.479   \n",
       "\n",
       "       lub oil temp  Coolant temp  Engine Condition  \n",
       "count     19535.000     19535.000         19535.000  \n",
       "mean         77.643        78.427             0.631  \n",
       "std           3.111         6.207             0.483  \n",
       "min          71.322        61.673             0.000  \n",
       "25%          75.726        73.895             0.000  \n",
       "50%          76.817        78.347             1.000  \n",
       "75%          78.072        82.915             1.000  \n",
       "max          89.581       195.528             1.000  "
      ]
     },
     "execution_count": 4,
     "metadata": {},
     "output_type": "execute_result"
    }
   ],
   "source": [
    "df.describe().round(3)"
   ]
  },
  {
   "cell_type": "code",
   "execution_count": 5,
   "id": "add839cf",
   "metadata": {},
   "outputs": [
    {
     "data": {
      "text/plain": [
       "Engine Condition\n",
       "1    12317\n",
       "0     7218\n",
       "Name: count, dtype: int64"
      ]
     },
     "execution_count": 5,
     "metadata": {},
     "output_type": "execute_result"
    }
   ],
   "source": [
    "df['Engine Condition'].value_counts()\n",
    "# \"0\" Engine in a normal or healthy condition\n",
    "# \"1\" Engine in a faulty or problematic condition"
   ]
  },
  {
   "cell_type": "markdown",
   "id": "1baa5973",
   "metadata": {},
   "source": [
    "### Check for outlier (Increase the accuracy)"
   ]
  },
  {
   "cell_type": "code",
   "execution_count": 6,
   "id": "1b30caef",
   "metadata": {},
   "outputs": [
    {
     "data": {
      "image/png": "[encoded data removed]",
      "text/plain": [
       "<Figure size 1200x800 with 1 Axes>"
      ]
     },
     "metadata": {},
     "output_type": "display_data"
    }
   ],
   "source": [
    "plt.figure(figsize=(12, 8))\n",
    "sns.boxplot(data=df, palette='binary')\n",
    "plt.title(\"Boxplot for Outliers\")\n",
    "plt.show()"
   ]
  },
  {
   "cell_type": "code",
   "execution_count": 7,
   "id": "cad5e066",
   "metadata": {},
   "outputs": [
    {
     "data": {
      "image/png": "[encoded data removed]",
      "text/plain": [
       "<Figure size 1200x600 with 2 Axes>"
      ]
     },
     "metadata": {},
     "output_type": "display_data"
    }
   ],
   "source": [
    "plt.figure(figsize =(12, 6))\n",
    "scatter = plt.scatter(\n",
    "    df[\"Engine rpm\"],\n",
    "    df[\"Coolant temp\"],\n",
    "    c = df[\"Engine rpm\"],\n",
    "    cmap = 'turbo',\n",
    "    alpha = 0.7\n",
    ")\n",
    "plt.colorbar(scatter, label = 'Engine rpm')\n",
    "plt.title(\"Engine rpm vs Coolant temp\")\n",
    "plt.xlabel(\"Engine rpm\")\n",
    "plt.ylabel(\"Coolant temp\")\n",
    "plt.show()"
   ]
  },
  {
   "cell_type": "markdown",
   "id": "97d496fc",
   "metadata": {},
   "source": [
    "#### Using IQR technique (Inter Quantile Range)"
   ]
  },
  {
   "cell_type": "code",
   "execution_count": 8,
   "id": "c23da81b",
   "metadata": {},
   "outputs": [
    {
     "data": {
      "text/html": [
       "<div>\n",
       "<style scoped>\n",
       "    .dataframe tbody tr th:only-of-type {\n",
       "        vertical-align: middle;\n",
       "    }\n",
       "\n",
       "    .dataframe tbody tr th {\n",
       "        vertical-align: top;\n",
       "    }\n",
       "\n",
       "    .dataframe thead th {\n",
       "        text-align: right;\n",
       "    }\n",
       "</style>\n",
       "<table border=\"1\" class=\"dataframe\">\n",
       "  <thead>\n",
       "    <tr style=\"text-align: right;\">\n",
       "      <th></th>\n",
       "      <th>Engine rpm</th>\n",
       "      <th>Lub oil pressure</th>\n",
       "      <th>Fuel pressure</th>\n",
       "      <th>Coolant pressure</th>\n",
       "      <th>lub oil temp</th>\n",
       "      <th>Coolant temp</th>\n",
       "    </tr>\n",
       "  </thead>\n",
       "  <tbody>\n",
       "    <tr>\n",
       "      <th>0</th>\n",
       "      <td>700</td>\n",
       "      <td>2.493592</td>\n",
       "      <td>11.790927</td>\n",
       "      <td>3.178981</td>\n",
       "      <td>84.144163</td>\n",
       "      <td>81.632187</td>\n",
       "    </tr>\n",
       "    <tr>\n",
       "      <th>1</th>\n",
       "      <td>876</td>\n",
       "      <td>2.941606</td>\n",
       "      <td>16.193866</td>\n",
       "      <td>2.464504</td>\n",
       "      <td>77.640934</td>\n",
       "      <td>82.445724</td>\n",
       "    </tr>\n",
       "    <tr>\n",
       "      <th>2</th>\n",
       "      <td>520</td>\n",
       "      <td>2.961746</td>\n",
       "      <td>6.553147</td>\n",
       "      <td>1.064347</td>\n",
       "      <td>77.752266</td>\n",
       "      <td>79.645777</td>\n",
       "    </tr>\n",
       "    <tr>\n",
       "      <th>3</th>\n",
       "      <td>473</td>\n",
       "      <td>3.707835</td>\n",
       "      <td>19.510172</td>\n",
       "      <td>3.727455</td>\n",
       "      <td>74.129907</td>\n",
       "      <td>71.774629</td>\n",
       "    </tr>\n",
       "    <tr>\n",
       "      <th>4</th>\n",
       "      <td>619</td>\n",
       "      <td>5.672919</td>\n",
       "      <td>15.738871</td>\n",
       "      <td>2.052251</td>\n",
       "      <td>78.396989</td>\n",
       "      <td>87.000225</td>\n",
       "    </tr>\n",
       "    <tr>\n",
       "      <th>...</th>\n",
       "      <td>...</td>\n",
       "      <td>...</td>\n",
       "      <td>...</td>\n",
       "      <td>...</td>\n",
       "      <td>...</td>\n",
       "      <td>...</td>\n",
       "    </tr>\n",
       "    <tr>\n",
       "      <th>19530</th>\n",
       "      <td>902</td>\n",
       "      <td>4.117296</td>\n",
       "      <td>4.981360</td>\n",
       "      <td>4.346564</td>\n",
       "      <td>75.951627</td>\n",
       "      <td>87.925087</td>\n",
       "    </tr>\n",
       "    <tr>\n",
       "      <th>19531</th>\n",
       "      <td>694</td>\n",
       "      <td>4.817720</td>\n",
       "      <td>10.866701</td>\n",
       "      <td>6.186689</td>\n",
       "      <td>75.281430</td>\n",
       "      <td>74.928459</td>\n",
       "    </tr>\n",
       "    <tr>\n",
       "      <th>19532</th>\n",
       "      <td>684</td>\n",
       "      <td>2.673344</td>\n",
       "      <td>4.927376</td>\n",
       "      <td>1.903572</td>\n",
       "      <td>76.844940</td>\n",
       "      <td>86.337345</td>\n",
       "    </tr>\n",
       "    <tr>\n",
       "      <th>19533</th>\n",
       "      <td>696</td>\n",
       "      <td>3.094163</td>\n",
       "      <td>8.291816</td>\n",
       "      <td>1.221729</td>\n",
       "      <td>77.179693</td>\n",
       "      <td>73.624396</td>\n",
       "    </tr>\n",
       "    <tr>\n",
       "      <th>19534</th>\n",
       "      <td>504</td>\n",
       "      <td>3.775246</td>\n",
       "      <td>3.962480</td>\n",
       "      <td>2.038647</td>\n",
       "      <td>75.564313</td>\n",
       "      <td>80.421421</td>\n",
       "    </tr>\n",
       "  </tbody>\n",
       "</table>\n",
       "<p>19535 rows × 6 columns</p>\n",
       "</div>"
      ],
      "text/plain": [
       "       Engine rpm  Lub oil pressure  Fuel pressure  Coolant pressure  \\\n",
       "0             700          2.493592      11.790927          3.178981   \n",
       "1             876          2.941606      16.193866          2.464504   \n",
       "2             520          2.961746       6.553147          1.064347   \n",
       "3             473          3.707835      19.510172          3.727455   \n",
       "4             619          5.672919      15.738871          2.052251   \n",
       "...           ...               ...            ...               ...   \n",
       "19530         902          4.117296       4.981360          4.346564   \n",
       "19531         694          4.817720      10.866701          6.186689   \n",
       "19532         684          2.673344       4.927376          1.903572   \n",
       "19533         696          3.094163       8.291816          1.221729   \n",
       "19534         504          3.775246       3.962480          2.038647   \n",
       "\n",
       "       lub oil temp  Coolant temp  \n",
       "0         84.144163     81.632187  \n",
       "1         77.640934     82.445724  \n",
       "2         77.752266     79.645777  \n",
       "3         74.129907     71.774629  \n",
       "4         78.396989     87.000225  \n",
       "...             ...           ...  \n",
       "19530     75.951627     87.925087  \n",
       "19531     75.281430     74.928459  \n",
       "19532     76.844940     86.337345  \n",
       "19533     77.179693     73.624396  \n",
       "19534     75.564313     80.421421  \n",
       "\n",
       "[19535 rows x 6 columns]"
      ]
     },
     "execution_count": 8,
     "metadata": {},
     "output_type": "execute_result"
    }
   ],
   "source": [
    "df_temp = df.drop(columns=[\"Engine Condition\"])\n",
    "df_temp"
   ]
  },
  {
   "cell_type": "code",
   "execution_count": 9,
   "id": "7123ce39",
   "metadata": {},
   "outputs": [
    {
     "name": "stdout",
     "output_type": "stream",
     "text": [
      "Engine rpm      593.000000\n",
      "Coolant temp     73.895421\n",
      "Name: 0.25, dtype: float64\n",
      "-------------------------------\n",
      "Engine rpm      934.000000\n",
      "Coolant temp     82.915411\n",
      "Name: 0.75, dtype: float64\n"
     ]
    }
   ],
   "source": [
    "Q1 = df_temp[['Engine rpm', 'Coolant temp']].quantile(0.25)\n",
    "print(Q1)\n",
    "print(\"-------------------------------\")\n",
    "Q3 = df_temp[['Engine rpm', 'Coolant temp']].quantile(0.75)\n",
    "print(Q3)"
   ]
  },
  {
   "cell_type": "code",
   "execution_count": 10,
   "id": "4d58708a",
   "metadata": {},
   "outputs": [
    {
     "name": "stdout",
     "output_type": "stream",
     "text": [
      "Engine rpm      341.00000\n",
      "Coolant temp      9.01999\n",
      "dtype: float64\n"
     ]
    }
   ],
   "source": [
    "IQR = Q3 - Q1\n",
    "print(IQR)"
   ]
  },
  {
   "cell_type": "code",
   "execution_count": 11,
   "id": "76744cbb",
   "metadata": {},
   "outputs": [
    {
     "name": "stdout",
     "output_type": "stream",
     "text": [
      "Engine rpm      81.500000\n",
      "Coolant temp    60.365435\n",
      "dtype: float64\n",
      "-------------------------------\n",
      "Engine rpm      1445.500000\n",
      "Coolant temp      96.445397\n",
      "dtype: float64\n"
     ]
    }
   ],
   "source": [
    "lower_limit = Q1 - 1.5*IQR\n",
    "print(lower_limit)\n",
    "print(\"-------------------------------\")\n",
    "upper_limit = Q3 + 1.5*IQR\n",
    "print(upper_limit)"
   ]
  },
  {
   "cell_type": "code",
   "execution_count": 12,
   "id": "273cbc40",
   "metadata": {},
   "outputs": [
    {
     "data": {
      "text/html": [
       "<div>\n",
       "<style scoped>\n",
       "    .dataframe tbody tr th:only-of-type {\n",
       "        vertical-align: middle;\n",
       "    }\n",
       "\n",
       "    .dataframe tbody tr th {\n",
       "        vertical-align: top;\n",
       "    }\n",
       "\n",
       "    .dataframe thead th {\n",
       "        text-align: right;\n",
       "    }\n",
       "</style>\n",
       "<table border=\"1\" class=\"dataframe\">\n",
       "  <thead>\n",
       "    <tr style=\"text-align: right;\">\n",
       "      <th></th>\n",
       "      <th>Engine rpm</th>\n",
       "      <th>Lub oil pressure</th>\n",
       "      <th>Fuel pressure</th>\n",
       "      <th>Coolant pressure</th>\n",
       "      <th>lub oil temp</th>\n",
       "      <th>Coolant temp</th>\n",
       "      <th>Engine Condition</th>\n",
       "    </tr>\n",
       "  </thead>\n",
       "  <tbody>\n",
       "    <tr>\n",
       "      <th>55</th>\n",
       "      <td>1674</td>\n",
       "      <td>2.501620</td>\n",
       "      <td>3.624157</td>\n",
       "      <td>2.043075</td>\n",
       "      <td>76.772327</td>\n",
       "      <td>74.641940</td>\n",
       "      <td>0</td>\n",
       "    </tr>\n",
       "    <tr>\n",
       "      <th>88</th>\n",
       "      <td>1776</td>\n",
       "      <td>3.648060</td>\n",
       "      <td>5.873874</td>\n",
       "      <td>1.318790</td>\n",
       "      <td>76.481421</td>\n",
       "      <td>71.233786</td>\n",
       "      <td>0</td>\n",
       "    </tr>\n",
       "    <tr>\n",
       "      <th>102</th>\n",
       "      <td>1481</td>\n",
       "      <td>3.972600</td>\n",
       "      <td>5.701680</td>\n",
       "      <td>1.556111</td>\n",
       "      <td>75.997690</td>\n",
       "      <td>93.791609</td>\n",
       "      <td>0</td>\n",
       "    </tr>\n",
       "    <tr>\n",
       "      <th>108</th>\n",
       "      <td>1661</td>\n",
       "      <td>3.518121</td>\n",
       "      <td>11.802902</td>\n",
       "      <td>2.951991</td>\n",
       "      <td>76.725921</td>\n",
       "      <td>72.872725</td>\n",
       "      <td>0</td>\n",
       "    </tr>\n",
       "    <tr>\n",
       "      <th>143</th>\n",
       "      <td>1620</td>\n",
       "      <td>1.536989</td>\n",
       "      <td>6.398304</td>\n",
       "      <td>2.423895</td>\n",
       "      <td>75.163334</td>\n",
       "      <td>77.340058</td>\n",
       "      <td>0</td>\n",
       "    </tr>\n",
       "    <tr>\n",
       "      <th>...</th>\n",
       "      <td>...</td>\n",
       "      <td>...</td>\n",
       "      <td>...</td>\n",
       "      <td>...</td>\n",
       "      <td>...</td>\n",
       "      <td>...</td>\n",
       "      <td>...</td>\n",
       "    </tr>\n",
       "    <tr>\n",
       "      <th>19241</th>\n",
       "      <td>2136</td>\n",
       "      <td>3.311171</td>\n",
       "      <td>7.282090</td>\n",
       "      <td>1.678657</td>\n",
       "      <td>75.783308</td>\n",
       "      <td>83.707670</td>\n",
       "      <td>1</td>\n",
       "    </tr>\n",
       "    <tr>\n",
       "      <th>19357</th>\n",
       "      <td>1556</td>\n",
       "      <td>4.786442</td>\n",
       "      <td>7.678463</td>\n",
       "      <td>4.029723</td>\n",
       "      <td>78.774495</td>\n",
       "      <td>71.273450</td>\n",
       "      <td>0</td>\n",
       "    </tr>\n",
       "    <tr>\n",
       "      <th>19409</th>\n",
       "      <td>1586</td>\n",
       "      <td>5.044422</td>\n",
       "      <td>8.794704</td>\n",
       "      <td>2.523254</td>\n",
       "      <td>77.276628</td>\n",
       "      <td>70.349750</td>\n",
       "      <td>1</td>\n",
       "    </tr>\n",
       "    <tr>\n",
       "      <th>19447</th>\n",
       "      <td>1807</td>\n",
       "      <td>3.727537</td>\n",
       "      <td>14.140429</td>\n",
       "      <td>4.446769</td>\n",
       "      <td>77.008190</td>\n",
       "      <td>90.369222</td>\n",
       "      <td>1</td>\n",
       "    </tr>\n",
       "    <tr>\n",
       "      <th>19466</th>\n",
       "      <td>1579</td>\n",
       "      <td>2.745121</td>\n",
       "      <td>4.776110</td>\n",
       "      <td>1.730032</td>\n",
       "      <td>75.771064</td>\n",
       "      <td>89.964517</td>\n",
       "      <td>0</td>\n",
       "    </tr>\n",
       "  </tbody>\n",
       "</table>\n",
       "<p>466 rows × 7 columns</p>\n",
       "</div>"
      ],
      "text/plain": [
       "       Engine rpm  Lub oil pressure  Fuel pressure  Coolant pressure  \\\n",
       "55           1674          2.501620       3.624157          2.043075   \n",
       "88           1776          3.648060       5.873874          1.318790   \n",
       "102          1481          3.972600       5.701680          1.556111   \n",
       "108          1661          3.518121      11.802902          2.951991   \n",
       "143          1620          1.536989       6.398304          2.423895   \n",
       "...           ...               ...            ...               ...   \n",
       "19241        2136          3.311171       7.282090          1.678657   \n",
       "19357        1556          4.786442       7.678463          4.029723   \n",
       "19409        1586          5.044422       8.794704          2.523254   \n",
       "19447        1807          3.727537      14.140429          4.446769   \n",
       "19466        1579          2.745121       4.776110          1.730032   \n",
       "\n",
       "       lub oil temp  Coolant temp  Engine Condition  \n",
       "55        76.772327     74.641940                 0  \n",
       "88        76.481421     71.233786                 0  \n",
       "102       75.997690     93.791609                 0  \n",
       "108       76.725921     72.872725                 0  \n",
       "143       75.163334     77.340058                 0  \n",
       "...             ...           ...               ...  \n",
       "19241     75.783308     83.707670                 1  \n",
       "19357     78.774495     71.273450                 0  \n",
       "19409     77.276628     70.349750                 1  \n",
       "19447     77.008190     90.369222                 1  \n",
       "19466     75.771064     89.964517                 0  \n",
       "\n",
       "[466 rows x 7 columns]"
      ]
     },
     "execution_count": 12,
     "metadata": {},
     "output_type": "execute_result"
    }
   ],
   "source": [
    "outlier_mask = (df[['Engine rpm', 'Coolant temp']] < lower_limit) | (df[['Engine rpm', 'Coolant temp']] > upper_limit)\n",
    "outliers = df[outlier_mask.any(axis=1)] \n",
    "outliers"
   ]
  },
  {
   "cell_type": "code",
   "execution_count": 13,
   "id": "1d471831",
   "metadata": {},
   "outputs": [
    {
     "name": "stdout",
     "output_type": "stream",
     "text": [
      "Data loss due to outlier : 2.385461991297671\n"
     ]
    }
   ],
   "source": [
    "percentage = (466/19535)*100\n",
    "print(\"Data loss due to outlier :\", percentage)  # That's Okay "
   ]
  },
  {
   "cell_type": "markdown",
   "id": "66963ba5",
   "metadata": {},
   "source": [
    "#### Removing Outlier "
   ]
  },
  {
   "cell_type": "code",
   "execution_count": 14,
   "id": "60bd8724",
   "metadata": {},
   "outputs": [
    {
     "data": {
      "text/html": [
       "<div>\n",
       "<style scoped>\n",
       "    .dataframe tbody tr th:only-of-type {\n",
       "        vertical-align: middle;\n",
       "    }\n",
       "\n",
       "    .dataframe tbody tr th {\n",
       "        vertical-align: top;\n",
       "    }\n",
       "\n",
       "    .dataframe thead th {\n",
       "        text-align: right;\n",
       "    }\n",
       "</style>\n",
       "<table border=\"1\" class=\"dataframe\">\n",
       "  <thead>\n",
       "    <tr style=\"text-align: right;\">\n",
       "      <th></th>\n",
       "      <th>Engine rpm</th>\n",
       "      <th>Lub oil pressure</th>\n",
       "      <th>Fuel pressure</th>\n",
       "      <th>Coolant pressure</th>\n",
       "      <th>lub oil temp</th>\n",
       "      <th>Coolant temp</th>\n",
       "      <th>Engine Condition</th>\n",
       "    </tr>\n",
       "  </thead>\n",
       "  <tbody>\n",
       "    <tr>\n",
       "      <th>0</th>\n",
       "      <td>700</td>\n",
       "      <td>2.493592</td>\n",
       "      <td>11.790927</td>\n",
       "      <td>3.178981</td>\n",
       "      <td>84.144163</td>\n",
       "      <td>81.632187</td>\n",
       "      <td>1</td>\n",
       "    </tr>\n",
       "    <tr>\n",
       "      <th>1</th>\n",
       "      <td>876</td>\n",
       "      <td>2.941606</td>\n",
       "      <td>16.193866</td>\n",
       "      <td>2.464504</td>\n",
       "      <td>77.640934</td>\n",
       "      <td>82.445724</td>\n",
       "      <td>0</td>\n",
       "    </tr>\n",
       "    <tr>\n",
       "      <th>2</th>\n",
       "      <td>520</td>\n",
       "      <td>2.961746</td>\n",
       "      <td>6.553147</td>\n",
       "      <td>1.064347</td>\n",
       "      <td>77.752266</td>\n",
       "      <td>79.645777</td>\n",
       "      <td>1</td>\n",
       "    </tr>\n",
       "    <tr>\n",
       "      <th>3</th>\n",
       "      <td>473</td>\n",
       "      <td>3.707835</td>\n",
       "      <td>19.510172</td>\n",
       "      <td>3.727455</td>\n",
       "      <td>74.129907</td>\n",
       "      <td>71.774629</td>\n",
       "      <td>1</td>\n",
       "    </tr>\n",
       "    <tr>\n",
       "      <th>4</th>\n",
       "      <td>619</td>\n",
       "      <td>5.672919</td>\n",
       "      <td>15.738871</td>\n",
       "      <td>2.052251</td>\n",
       "      <td>78.396989</td>\n",
       "      <td>87.000225</td>\n",
       "      <td>0</td>\n",
       "    </tr>\n",
       "    <tr>\n",
       "      <th>...</th>\n",
       "      <td>...</td>\n",
       "      <td>...</td>\n",
       "      <td>...</td>\n",
       "      <td>...</td>\n",
       "      <td>...</td>\n",
       "      <td>...</td>\n",
       "      <td>...</td>\n",
       "    </tr>\n",
       "    <tr>\n",
       "      <th>19530</th>\n",
       "      <td>902</td>\n",
       "      <td>4.117296</td>\n",
       "      <td>4.981360</td>\n",
       "      <td>4.346564</td>\n",
       "      <td>75.951627</td>\n",
       "      <td>87.925087</td>\n",
       "      <td>1</td>\n",
       "    </tr>\n",
       "    <tr>\n",
       "      <th>19531</th>\n",
       "      <td>694</td>\n",
       "      <td>4.817720</td>\n",
       "      <td>10.866701</td>\n",
       "      <td>6.186689</td>\n",
       "      <td>75.281430</td>\n",
       "      <td>74.928459</td>\n",
       "      <td>1</td>\n",
       "    </tr>\n",
       "    <tr>\n",
       "      <th>19532</th>\n",
       "      <td>684</td>\n",
       "      <td>2.673344</td>\n",
       "      <td>4.927376</td>\n",
       "      <td>1.903572</td>\n",
       "      <td>76.844940</td>\n",
       "      <td>86.337345</td>\n",
       "      <td>1</td>\n",
       "    </tr>\n",
       "    <tr>\n",
       "      <th>19533</th>\n",
       "      <td>696</td>\n",
       "      <td>3.094163</td>\n",
       "      <td>8.291816</td>\n",
       "      <td>1.221729</td>\n",
       "      <td>77.179693</td>\n",
       "      <td>73.624396</td>\n",
       "      <td>1</td>\n",
       "    </tr>\n",
       "    <tr>\n",
       "      <th>19534</th>\n",
       "      <td>504</td>\n",
       "      <td>3.775246</td>\n",
       "      <td>3.962480</td>\n",
       "      <td>2.038647</td>\n",
       "      <td>75.564313</td>\n",
       "      <td>80.421421</td>\n",
       "      <td>1</td>\n",
       "    </tr>\n",
       "  </tbody>\n",
       "</table>\n",
       "<p>19069 rows × 7 columns</p>\n",
       "</div>"
      ],
      "text/plain": [
       "       Engine rpm  Lub oil pressure  Fuel pressure  Coolant pressure  \\\n",
       "0             700          2.493592      11.790927          3.178981   \n",
       "1             876          2.941606      16.193866          2.464504   \n",
       "2             520          2.961746       6.553147          1.064347   \n",
       "3             473          3.707835      19.510172          3.727455   \n",
       "4             619          5.672919      15.738871          2.052251   \n",
       "...           ...               ...            ...               ...   \n",
       "19530         902          4.117296       4.981360          4.346564   \n",
       "19531         694          4.817720      10.866701          6.186689   \n",
       "19532         684          2.673344       4.927376          1.903572   \n",
       "19533         696          3.094163       8.291816          1.221729   \n",
       "19534         504          3.775246       3.962480          2.038647   \n",
       "\n",
       "       lub oil temp  Coolant temp  Engine Condition  \n",
       "0         84.144163     81.632187                 1  \n",
       "1         77.640934     82.445724                 0  \n",
       "2         77.752266     79.645777                 1  \n",
       "3         74.129907     71.774629                 1  \n",
       "4         78.396989     87.000225                 0  \n",
       "...             ...           ...               ...  \n",
       "19530     75.951627     87.925087                 1  \n",
       "19531     75.281430     74.928459                 1  \n",
       "19532     76.844940     86.337345                 1  \n",
       "19533     77.179693     73.624396                 1  \n",
       "19534     75.564313     80.421421                 1  \n",
       "\n",
       "[19069 rows x 7 columns]"
      ]
     },
     "execution_count": 14,
     "metadata": {},
     "output_type": "execute_result"
    }
   ],
   "source": [
    "df_cleaned = df[~outlier_mask.any(axis=1)]\n",
    "df_cleaned"
   ]
  },
  {
   "cell_type": "code",
   "execution_count": 15,
   "id": "a2e3022b",
   "metadata": {
    "scrolled": false
   },
   "outputs": [
    {
     "data": {
      "image/png": "[encoded data removed]",
      "text/plain": [
       "<Figure size 1200x800 with 2 Axes>"
      ]
     },
     "metadata": {},
     "output_type": "display_data"
    }
   ],
   "source": [
    "correlation = df_cleaned.corr()\n",
    "\n",
    "plt.figure(figsize =(12, 8))\n",
    "sns.heatmap(correlation, annot = True, cmap = 'coolwarm', fmt = '.2f', linewidths = 0.5)\n",
    "plt.title(\"Correlation Heatmap for engine health\")\n",
    "plt.show() \n",
    "# All the features have weak correlations with the target variable Engine Condition. \n",
    "#This suggests that none of these features alone strongly predict the engine condition"
   ]
  },
  {
   "cell_type": "code",
   "execution_count": 16,
   "id": "2ca6b320",
   "metadata": {},
   "outputs": [
    {
     "data": {
      "text/html": [
       "<div>\n",
       "<style scoped>\n",
       "    .dataframe tbody tr th:only-of-type {\n",
       "        vertical-align: middle;\n",
       "    }\n",
       "\n",
       "    .dataframe tbody tr th {\n",
       "        vertical-align: top;\n",
       "    }\n",
       "\n",
       "    .dataframe thead th {\n",
       "        text-align: right;\n",
       "    }\n",
       "</style>\n",
       "<table border=\"1\" class=\"dataframe\">\n",
       "  <thead>\n",
       "    <tr style=\"text-align: right;\">\n",
       "      <th></th>\n",
       "      <th>Engine rpm</th>\n",
       "      <th>Lub oil pressure</th>\n",
       "      <th>Fuel pressure</th>\n",
       "      <th>Coolant pressure</th>\n",
       "      <th>lub oil temp</th>\n",
       "      <th>Coolant temp</th>\n",
       "      <th>Engine Condition</th>\n",
       "    </tr>\n",
       "  </thead>\n",
       "  <tbody>\n",
       "    <tr>\n",
       "      <th>0</th>\n",
       "      <td>700</td>\n",
       "      <td>2.494</td>\n",
       "      <td>11.791</td>\n",
       "      <td>3.179</td>\n",
       "      <td>84.144</td>\n",
       "      <td>81.632</td>\n",
       "      <td>1</td>\n",
       "    </tr>\n",
       "    <tr>\n",
       "      <th>1</th>\n",
       "      <td>876</td>\n",
       "      <td>2.942</td>\n",
       "      <td>16.194</td>\n",
       "      <td>2.465</td>\n",
       "      <td>77.641</td>\n",
       "      <td>82.446</td>\n",
       "      <td>0</td>\n",
       "    </tr>\n",
       "    <tr>\n",
       "      <th>2</th>\n",
       "      <td>520</td>\n",
       "      <td>2.962</td>\n",
       "      <td>6.553</td>\n",
       "      <td>1.064</td>\n",
       "      <td>77.752</td>\n",
       "      <td>79.646</td>\n",
       "      <td>1</td>\n",
       "    </tr>\n",
       "    <tr>\n",
       "      <th>3</th>\n",
       "      <td>473</td>\n",
       "      <td>3.708</td>\n",
       "      <td>19.510</td>\n",
       "      <td>3.727</td>\n",
       "      <td>74.130</td>\n",
       "      <td>71.775</td>\n",
       "      <td>1</td>\n",
       "    </tr>\n",
       "    <tr>\n",
       "      <th>4</th>\n",
       "      <td>619</td>\n",
       "      <td>5.673</td>\n",
       "      <td>15.739</td>\n",
       "      <td>2.052</td>\n",
       "      <td>78.397</td>\n",
       "      <td>87.000</td>\n",
       "      <td>0</td>\n",
       "    </tr>\n",
       "    <tr>\n",
       "      <th>...</th>\n",
       "      <td>...</td>\n",
       "      <td>...</td>\n",
       "      <td>...</td>\n",
       "      <td>...</td>\n",
       "      <td>...</td>\n",
       "      <td>...</td>\n",
       "      <td>...</td>\n",
       "    </tr>\n",
       "    <tr>\n",
       "      <th>19530</th>\n",
       "      <td>902</td>\n",
       "      <td>4.117</td>\n",
       "      <td>4.981</td>\n",
       "      <td>4.347</td>\n",
       "      <td>75.952</td>\n",
       "      <td>87.925</td>\n",
       "      <td>1</td>\n",
       "    </tr>\n",
       "    <tr>\n",
       "      <th>19531</th>\n",
       "      <td>694</td>\n",
       "      <td>4.818</td>\n",
       "      <td>10.867</td>\n",
       "      <td>6.187</td>\n",
       "      <td>75.281</td>\n",
       "      <td>74.928</td>\n",
       "      <td>1</td>\n",
       "    </tr>\n",
       "    <tr>\n",
       "      <th>19532</th>\n",
       "      <td>684</td>\n",
       "      <td>2.673</td>\n",
       "      <td>4.927</td>\n",
       "      <td>1.904</td>\n",
       "      <td>76.845</td>\n",
       "      <td>86.337</td>\n",
       "      <td>1</td>\n",
       "    </tr>\n",
       "    <tr>\n",
       "      <th>19533</th>\n",
       "      <td>696</td>\n",
       "      <td>3.094</td>\n",
       "      <td>8.292</td>\n",
       "      <td>1.222</td>\n",
       "      <td>77.180</td>\n",
       "      <td>73.624</td>\n",
       "      <td>1</td>\n",
       "    </tr>\n",
       "    <tr>\n",
       "      <th>19534</th>\n",
       "      <td>504</td>\n",
       "      <td>3.775</td>\n",
       "      <td>3.962</td>\n",
       "      <td>2.039</td>\n",
       "      <td>75.564</td>\n",
       "      <td>80.421</td>\n",
       "      <td>1</td>\n",
       "    </tr>\n",
       "  </tbody>\n",
       "</table>\n",
       "<p>19069 rows × 7 columns</p>\n",
       "</div>"
      ],
      "text/plain": [
       "       Engine rpm  Lub oil pressure  Fuel pressure  Coolant pressure  \\\n",
       "0             700             2.494         11.791             3.179   \n",
       "1             876             2.942         16.194             2.465   \n",
       "2             520             2.962          6.553             1.064   \n",
       "3             473             3.708         19.510             3.727   \n",
       "4             619             5.673         15.739             2.052   \n",
       "...           ...               ...            ...               ...   \n",
       "19530         902             4.117          4.981             4.347   \n",
       "19531         694             4.818         10.867             6.187   \n",
       "19532         684             2.673          4.927             1.904   \n",
       "19533         696             3.094          8.292             1.222   \n",
       "19534         504             3.775          3.962             2.039   \n",
       "\n",
       "       lub oil temp  Coolant temp  Engine Condition  \n",
       "0            84.144        81.632                 1  \n",
       "1            77.641        82.446                 0  \n",
       "2            77.752        79.646                 1  \n",
       "3            74.130        71.775                 1  \n",
       "4            78.397        87.000                 0  \n",
       "...             ...           ...               ...  \n",
       "19530        75.952        87.925                 1  \n",
       "19531        75.281        74.928                 1  \n",
       "19532        76.845        86.337                 1  \n",
       "19533        77.180        73.624                 1  \n",
       "19534        75.564        80.421                 1  \n",
       "\n",
       "[19069 rows x 7 columns]"
      ]
     },
     "execution_count": 16,
     "metadata": {},
     "output_type": "execute_result"
    }
   ],
   "source": [
    "df_cleaned.round(3)"
   ]
  },
  {
   "cell_type": "code",
   "execution_count": null,
   "id": "30158dbc",
   "metadata": {},
   "outputs": [],
   "source": []
  },
  {
   "cell_type": "markdown",
   "id": "10dfde87",
   "metadata": {},
   "source": [
    "### KNN algorithm"
   ]
  },
  {
   "cell_type": "code",
   "execution_count": 17,
   "id": "8825a0d2",
   "metadata": {},
   "outputs": [],
   "source": [
    "X = df_cleaned.drop(columns=[\"Engine Condition\"])\n",
    "Y = df_cleaned['Engine Condition']"
   ]
  },
  {
   "cell_type": "code",
   "execution_count": 18,
   "id": "e151c633",
   "metadata": {},
   "outputs": [
    {
     "data": {
      "text/html": [
       "<style>#sk-container-id-1 {color: black;}#sk-container-id-1 pre{padding: 0;}#sk-container-id-1 div.sk-toggleable {background-color: white;}#sk-container-id-1 label.sk-toggleable__label {cursor: pointer;display: block;width: 100%;margin-bottom: 0;padding: 0.3em;box-sizing: border-box;text-align: center;}#sk-container-id-1 label.sk-toggleable__label-arrow:before {content: \"▸\";float: left;margin-right: 0.25em;color: #696969;}#sk-container-id-1 label.sk-toggleable__label-arrow:hover:before {color: black;}#sk-container-id-1 div.sk-estimator:hover label.sk-toggleable__label-arrow:before {color: black;}#sk-container-id-1 div.sk-toggleable__content {max-height: 0;max-width: 0;overflow: hidden;text-align: left;background-color: #f0f8ff;}#sk-container-id-1 div.sk-toggleable__content pre {margin: 0.2em;color: black;border-radius: 0.25em;background-color: #f0f8ff;}#sk-container-id-1 input.sk-toggleable__control:checked~div.sk-toggleable__content {max-height: 200px;max-width: 100%;overflow: auto;}#sk-container-id-1 input.sk-toggleable__control:checked~label.sk-toggleable__label-arrow:before {content: \"▾\";}#sk-container-id-1 div.sk-estimator input.sk-toggleable__control:checked~label.sk-toggleable__label {background-color: #d4ebff;}#sk-container-id-1 div.sk-label input.sk-toggleable__control:checked~label.sk-toggleable__label {background-color: #d4ebff;}#sk-container-id-1 input.sk-hidden--visually {border: 0;clip: rect(1px 1px 1px 1px);clip: rect(1px, 1px, 1px, 1px);height: 1px;margin: -1px;overflow: hidden;padding: 0;position: absolute;width: 1px;}#sk-container-id-1 div.sk-estimator {font-family: monospace;background-color: #f0f8ff;border: 1px dotted black;border-radius: 0.25em;box-sizing: border-box;margin-bottom: 0.5em;}#sk-container-id-1 div.sk-estimator:hover {background-color: #d4ebff;}#sk-container-id-1 div.sk-parallel-item::after {content: \"\";width: 100%;border-bottom: 1px solid gray;flex-grow: 1;}#sk-container-id-1 div.sk-label:hover label.sk-toggleable__label {background-color: #d4ebff;}#sk-container-id-1 div.sk-serial::before {content: \"\";position: absolute;border-left: 1px solid gray;box-sizing: border-box;top: 0;bottom: 0;left: 50%;z-index: 0;}#sk-container-id-1 div.sk-serial {display: flex;flex-direction: column;align-items: center;background-color: white;padding-right: 0.2em;padding-left: 0.2em;position: relative;}#sk-container-id-1 div.sk-item {position: relative;z-index: 1;}#sk-container-id-1 div.sk-parallel {display: flex;align-items: stretch;justify-content: center;background-color: white;position: relative;}#sk-container-id-1 div.sk-item::before, #sk-container-id-1 div.sk-parallel-item::before {content: \"\";position: absolute;border-left: 1px solid gray;box-sizing: border-box;top: 0;bottom: 0;left: 50%;z-index: -1;}#sk-container-id-1 div.sk-parallel-item {display: flex;flex-direction: column;z-index: 1;position: relative;background-color: white;}#sk-container-id-1 div.sk-parallel-item:first-child::after {align-self: flex-end;width: 50%;}#sk-container-id-1 div.sk-parallel-item:last-child::after {align-self: flex-start;width: 50%;}#sk-container-id-1 div.sk-parallel-item:only-child::after {width: 0;}#sk-container-id-1 div.sk-dashed-wrapped {border: 1px dashed gray;margin: 0 0.4em 0.5em 0.4em;box-sizing: border-box;padding-bottom: 0.4em;background-color: white;}#sk-container-id-1 div.sk-label label {font-family: monospace;font-weight: bold;display: inline-block;line-height: 1.2em;}#sk-container-id-1 div.sk-label-container {text-align: center;}#sk-container-id-1 div.sk-container {/* jupyter's `normalize.less` sets `[hidden] { display: none; }` but bootstrap.min.css set `[hidden] { display: none !important; }` so we also need the `!important` here to be able to override the default hidden behavior on the sphinx rendered scikit-learn.org. See: https://github.com/scikit-learn/scikit-learn/issues/21755 */display: inline-block !important;position: relative;}#sk-container-id-1 div.sk-text-repr-fallback {display: none;}</style><div id=\"sk-container-id-1\" class=\"sk-top-container\"><div class=\"sk-text-repr-fallback\"><pre>KNeighborsClassifier(n_neighbors=25)</pre><b>In a Jupyter environment, please rerun this cell to show the HTML representation or trust the notebook. <br />On GitHub, the HTML representation is unable to render, please try loading this page with nbviewer.org.</b></div><div class=\"sk-container\" hidden><div class=\"sk-item\"><div class=\"sk-estimator sk-toggleable\"><input class=\"sk-toggleable__control sk-hidden--visually\" id=\"sk-estimator-id-1\" type=\"checkbox\" checked><label for=\"sk-estimator-id-1\" class=\"sk-toggleable__label sk-toggleable__label-arrow\">KNeighborsClassifier</label><div class=\"sk-toggleable__content\"><pre>KNeighborsClassifier(n_neighbors=25)</pre></div></div></div></div></div>"
      ],
      "text/plain": [
       "KNeighborsClassifier(n_neighbors=25)"
      ]
     },
     "execution_count": 18,
     "metadata": {},
     "output_type": "execute_result"
    }
   ],
   "source": [
    "from sklearn.model_selection import train_test_split\n",
    "from sklearn.preprocessing import StandardScaler\n",
    "from sklearn.neighbors import KNeighborsClassifier\n",
    "from sklearn.metrics import accuracy_score, classification_report, confusion_matrix\n",
    "\n",
    "\n",
    "X_train, x_test, Y_train, y_test = train_test_split(X, Y, test_size = 0.2, random_state = 42)\n",
    "\n",
    "scaler = StandardScaler()\n",
    "\n",
    "X_train = scaler.fit_transform(X_train)\n",
    "x_test = scaler.transform(x_test)    \n",
    "\n",
    "\n",
    "knn = KNeighborsClassifier(\n",
    "    n_neighbors = 25\n",
    ")\n",
    "\n",
    "knn.fit(X_train, Y_train)"
   ]
  },
  {
   "cell_type": "code",
   "execution_count": 19,
   "id": "056df0bb",
   "metadata": {},
   "outputs": [],
   "source": [
    "#print(X_train.shape)\n",
    "#print(x_test.shape)\n",
    "Y_pred = knn.predict(x_test)"
   ]
  },
  {
   "cell_type": "code",
   "execution_count": 20,
   "id": "b16d9ad2",
   "metadata": {},
   "outputs": [
    {
     "name": "stdout",
     "output_type": "stream",
     "text": [
      "Accuracy KNN: 65.5742003146303\n"
     ]
    }
   ],
   "source": [
    "Knn_accuracy = accuracy_score(y_test, Y_pred)\n",
    "print(f\"Accuracy KNN: {Knn_accuracy*100}\")"
   ]
  },
  {
   "cell_type": "code",
   "execution_count": 21,
   "id": "33eecf80",
   "metadata": {},
   "outputs": [
    {
     "name": "stdout",
     "output_type": "stream",
     "text": [
      "Classification Report:\n",
      "              precision    recall  f1-score   support\n",
      "\n",
      "           0       0.52      0.35      0.42      1358\n",
      "           1       0.70      0.82      0.75      2456\n",
      "\n",
      "    accuracy                           0.66      3814\n",
      "   macro avg       0.61      0.59      0.59      3814\n",
      "weighted avg       0.64      0.66      0.64      3814\n",
      "\n"
     ]
    }
   ],
   "source": [
    "print(\"Classification Report:\")\n",
    "print(classification_report(y_test, Y_pred))"
   ]
  },
  {
   "cell_type": "code",
   "execution_count": 22,
   "id": "20a08ae3",
   "metadata": {
    "scrolled": true
   },
   "outputs": [
    {
     "data": {
      "image/png": "[encoded data removed]",
      "text/plain": [
       "<Figure size 1200x800 with 1 Axes>"
      ]
     },
     "metadata": {},
     "output_type": "display_data"
    }
   ],
   "source": [
    "cm = confusion_matrix(y_test, Y_pred)\n",
    "\n",
    "plt.figure(figsize = (12, 8))\n",
    "sns.heatmap(cm, annot = True, fmt ='d' , cmap = \"binary\", cbar = False ,xticklabels=['Class 0', 'Class 1'], yticklabels=['Class 0', 'Class 1'])\n",
    "plt.xlabel(\"Predicated Label\")\n",
    "plt.ylabel(\"Actual Label\")\n",
    "plt.title(\"K Nearst Neighbor\")\n",
    "plt.show()"
   ]
  },
  {
   "cell_type": "code",
   "execution_count": 50,
   "id": "9aacaad0",
   "metadata": {},
   "outputs": [
    {
     "name": "stdout",
     "output_type": "stream",
     "text": [
      "Knn model saved succesfully\n"
     ]
    }
   ],
   "source": [
    "with open(\"knn_model.pkl\", 'wb') as file:\n",
    "    pickle.dump(knn, file)\n",
    "    \n",
    "print(\"Knn model saved succesfully\")"
   ]
  },
  {
   "cell_type": "markdown",
   "id": "a58cf201",
   "metadata": {},
   "source": [
    "## SVM"
   ]
  },
  {
   "cell_type": "code",
   "execution_count": 47,
   "id": "346bff8d",
   "metadata": {},
   "outputs": [
    {
     "data": {
      "text/html": [
       "<style>#sk-container-id-5 {color: black;}#sk-container-id-5 pre{padding: 0;}#sk-container-id-5 div.sk-toggleable {background-color: white;}#sk-container-id-5 label.sk-toggleable__label {cursor: pointer;display: block;width: 100%;margin-bottom: 0;padding: 0.3em;box-sizing: border-box;text-align: center;}#sk-container-id-5 label.sk-toggleable__label-arrow:before {content: \"▸\";float: left;margin-right: 0.25em;color: #696969;}#sk-container-id-5 label.sk-toggleable__label-arrow:hover:before {color: black;}#sk-container-id-5 div.sk-estimator:hover label.sk-toggleable__label-arrow:before {color: black;}#sk-container-id-5 div.sk-toggleable__content {max-height: 0;max-width: 0;overflow: hidden;text-align: left;background-color: #f0f8ff;}#sk-container-id-5 div.sk-toggleable__content pre {margin: 0.2em;color: black;border-radius: 0.25em;background-color: #f0f8ff;}#sk-container-id-5 input.sk-toggleable__control:checked~div.sk-toggleable__content {max-height: 200px;max-width: 100%;overflow: auto;}#sk-container-id-5 input.sk-toggleable__control:checked~label.sk-toggleable__label-arrow:before {content: \"▾\";}#sk-container-id-5 div.sk-estimator input.sk-toggleable__control:checked~label.sk-toggleable__label {background-color: #d4ebff;}#sk-container-id-5 div.sk-label input.sk-toggleable__control:checked~label.sk-toggleable__label {background-color: #d4ebff;}#sk-container-id-5 input.sk-hidden--visually {border: 0;clip: rect(1px 1px 1px 1px);clip: rect(1px, 1px, 1px, 1px);height: 1px;margin: -1px;overflow: hidden;padding: 0;position: absolute;width: 1px;}#sk-container-id-5 div.sk-estimator {font-family: monospace;background-color: #f0f8ff;border: 1px dotted black;border-radius: 0.25em;box-sizing: border-box;margin-bottom: 0.5em;}#sk-container-id-5 div.sk-estimator:hover {background-color: #d4ebff;}#sk-container-id-5 div.sk-parallel-item::after {content: \"\";width: 100%;border-bottom: 1px solid gray;flex-grow: 1;}#sk-container-id-5 div.sk-label:hover label.sk-toggleable__label {background-color: #d4ebff;}#sk-container-id-5 div.sk-serial::before {content: \"\";position: absolute;border-left: 1px solid gray;box-sizing: border-box;top: 0;bottom: 0;left: 50%;z-index: 0;}#sk-container-id-5 div.sk-serial {display: flex;flex-direction: column;align-items: center;background-color: white;padding-right: 0.2em;padding-left: 0.2em;position: relative;}#sk-container-id-5 div.sk-item {position: relative;z-index: 1;}#sk-container-id-5 div.sk-parallel {display: flex;align-items: stretch;justify-content: center;background-color: white;position: relative;}#sk-container-id-5 div.sk-item::before, #sk-container-id-5 div.sk-parallel-item::before {content: \"\";position: absolute;border-left: 1px solid gray;box-sizing: border-box;top: 0;bottom: 0;left: 50%;z-index: -1;}#sk-container-id-5 div.sk-parallel-item {display: flex;flex-direction: column;z-index: 1;position: relative;background-color: white;}#sk-container-id-5 div.sk-parallel-item:first-child::after {align-self: flex-end;width: 50%;}#sk-container-id-5 div.sk-parallel-item:last-child::after {align-self: flex-start;width: 50%;}#sk-container-id-5 div.sk-parallel-item:only-child::after {width: 0;}#sk-container-id-5 div.sk-dashed-wrapped {border: 1px dashed gray;margin: 0 0.4em 0.5em 0.4em;box-sizing: border-box;padding-bottom: 0.4em;background-color: white;}#sk-container-id-5 div.sk-label label {font-family: monospace;font-weight: bold;display: inline-block;line-height: 1.2em;}#sk-container-id-5 div.sk-label-container {text-align: center;}#sk-container-id-5 div.sk-container {/* jupyter's `normalize.less` sets `[hidden] { display: none; }` but bootstrap.min.css set `[hidden] { display: none !important; }` so we also need the `!important` here to be able to override the default hidden behavior on the sphinx rendered scikit-learn.org. See: https://github.com/scikit-learn/scikit-learn/issues/21755 */display: inline-block !important;position: relative;}#sk-container-id-5 div.sk-text-repr-fallback {display: none;}</style><div id=\"sk-container-id-5\" class=\"sk-top-container\"><div class=\"sk-text-repr-fallback\"><pre>SVC(kernel=&#x27;linear&#x27;)</pre><b>In a Jupyter environment, please rerun this cell to show the HTML representation or trust the notebook. <br />On GitHub, the HTML representation is unable to render, please try loading this page with nbviewer.org.</b></div><div class=\"sk-container\" hidden><div class=\"sk-item\"><div class=\"sk-estimator sk-toggleable\"><input class=\"sk-toggleable__control sk-hidden--visually\" id=\"sk-estimator-id-5\" type=\"checkbox\" checked><label for=\"sk-estimator-id-5\" class=\"sk-toggleable__label sk-toggleable__label-arrow\">SVC</label><div class=\"sk-toggleable__content\"><pre>SVC(kernel=&#x27;linear&#x27;)</pre></div></div></div></div></div>"
      ],
      "text/plain": [
       "SVC(kernel='linear')"
      ]
     },
     "execution_count": 47,
     "metadata": {},
     "output_type": "execute_result"
    }
   ],
   "source": [
    "from sklearn.svm import SVC\n",
    "\n",
    "svm = SVC(\n",
    "    kernel =\"linear\",\n",
    "    C = 1.0,\n",
    "    degree = 3, \n",
    "    gamma = \"scale\"\n",
    ")\n",
    "svm.fit(X_train, Y_train)"
   ]
  },
  {
   "cell_type": "code",
   "execution_count": 44,
   "id": "688cbd5c",
   "metadata": {},
   "outputs": [],
   "source": [
    "y_pred = svm.predict(x_test)"
   ]
  },
  {
   "cell_type": "code",
   "execution_count": 45,
   "id": "c89cd7dd",
   "metadata": {},
   "outputs": [
    {
     "name": "stdout",
     "output_type": "stream",
     "text": [
      "Accuracy SVM: 66.59674882013634\n"
     ]
    }
   ],
   "source": [
    "from sklearn.metrics import accuracy_score, classification_report, confusion_matrix\n",
    "\n",
    "svm_accuracy = accuracy_score(y_test, y_pred)\n",
    "print(\"Accuracy SVM:\", svm_accuracy*100)"
   ]
  },
  {
   "cell_type": "code",
   "execution_count": 26,
   "id": "2e3d8b1f",
   "metadata": {},
   "outputs": [
    {
     "name": "stdout",
     "output_type": "stream",
     "text": [
      "              precision    recall  f1-score   support\n",
      "\n",
      "           0       0.59      0.20      0.30      1358\n",
      "           1       0.68      0.92      0.78      2456\n",
      "\n",
      "    accuracy                           0.67      3814\n",
      "   macro avg       0.63      0.56      0.54      3814\n",
      "weighted avg       0.65      0.67      0.61      3814\n",
      "\n"
     ]
    }
   ],
   "source": [
    "print(classification_report(y_test, y_pred))"
   ]
  },
  {
   "cell_type": "code",
   "execution_count": 27,
   "id": "79a93b14",
   "metadata": {},
   "outputs": [
    {
     "data": {
      "image/png": "[encoded data removed]",
      "text/plain": [
       "<Figure size 1200x800 with 1 Axes>"
      ]
     },
     "metadata": {},
     "output_type": "display_data"
    }
   ],
   "source": [
    "cm = confusion_matrix(y_test, y_pred)\n",
    "\n",
    "plt.figure(figsize = (12, 8))\n",
    "sns.heatmap(cm, annot = True, fmt ='d' , cmap = \"binary\", cbar = False ,xticklabels=['Class 0', 'Class 1'], yticklabels=['Class 0', 'Class 1'])\n",
    "plt.xlabel(\"Predicated Label\")\n",
    "plt.ylabel(\"Actual Label\")\n",
    "plt.title(\"Support Vector Machine\")\n",
    "plt.show()"
   ]
  },
  {
   "cell_type": "markdown",
   "id": "aead2e61",
   "metadata": {},
   "source": [
    "### Random Forest"
   ]
  },
  {
   "cell_type": "code",
   "execution_count": 28,
   "id": "d728d233",
   "metadata": {},
   "outputs": [
    {
     "data": {
      "text/html": [
       "<style>#sk-container-id-3 {color: black;}#sk-container-id-3 pre{padding: 0;}#sk-container-id-3 div.sk-toggleable {background-color: white;}#sk-container-id-3 label.sk-toggleable__label {cursor: pointer;display: block;width: 100%;margin-bottom: 0;padding: 0.3em;box-sizing: border-box;text-align: center;}#sk-container-id-3 label.sk-toggleable__label-arrow:before {content: \"▸\";float: left;margin-right: 0.25em;color: #696969;}#sk-container-id-3 label.sk-toggleable__label-arrow:hover:before {color: black;}#sk-container-id-3 div.sk-estimator:hover label.sk-toggleable__label-arrow:before {color: black;}#sk-container-id-3 div.sk-toggleable__content {max-height: 0;max-width: 0;overflow: hidden;text-align: left;background-color: #f0f8ff;}#sk-container-id-3 div.sk-toggleable__content pre {margin: 0.2em;color: black;border-radius: 0.25em;background-color: #f0f8ff;}#sk-container-id-3 input.sk-toggleable__control:checked~div.sk-toggleable__content {max-height: 200px;max-width: 100%;overflow: auto;}#sk-container-id-3 input.sk-toggleable__control:checked~label.sk-toggleable__label-arrow:before {content: \"▾\";}#sk-container-id-3 div.sk-estimator input.sk-toggleable__control:checked~label.sk-toggleable__label {background-color: #d4ebff;}#sk-container-id-3 div.sk-label input.sk-toggleable__control:checked~label.sk-toggleable__label {background-color: #d4ebff;}#sk-container-id-3 input.sk-hidden--visually {border: 0;clip: rect(1px 1px 1px 1px);clip: rect(1px, 1px, 1px, 1px);height: 1px;margin: -1px;overflow: hidden;padding: 0;position: absolute;width: 1px;}#sk-container-id-3 div.sk-estimator {font-family: monospace;background-color: #f0f8ff;border: 1px dotted black;border-radius: 0.25em;box-sizing: border-box;margin-bottom: 0.5em;}#sk-container-id-3 div.sk-estimator:hover {background-color: #d4ebff;}#sk-container-id-3 div.sk-parallel-item::after {content: \"\";width: 100%;border-bottom: 1px solid gray;flex-grow: 1;}#sk-container-id-3 div.sk-label:hover label.sk-toggleable__label {background-color: #d4ebff;}#sk-container-id-3 div.sk-serial::before {content: \"\";position: absolute;border-left: 1px solid gray;box-sizing: border-box;top: 0;bottom: 0;left: 50%;z-index: 0;}#sk-container-id-3 div.sk-serial {display: flex;flex-direction: column;align-items: center;background-color: white;padding-right: 0.2em;padding-left: 0.2em;position: relative;}#sk-container-id-3 div.sk-item {position: relative;z-index: 1;}#sk-container-id-3 div.sk-parallel {display: flex;align-items: stretch;justify-content: center;background-color: white;position: relative;}#sk-container-id-3 div.sk-item::before, #sk-container-id-3 div.sk-parallel-item::before {content: \"\";position: absolute;border-left: 1px solid gray;box-sizing: border-box;top: 0;bottom: 0;left: 50%;z-index: -1;}#sk-container-id-3 div.sk-parallel-item {display: flex;flex-direction: column;z-index: 1;position: relative;background-color: white;}#sk-container-id-3 div.sk-parallel-item:first-child::after {align-self: flex-end;width: 50%;}#sk-container-id-3 div.sk-parallel-item:last-child::after {align-self: flex-start;width: 50%;}#sk-container-id-3 div.sk-parallel-item:only-child::after {width: 0;}#sk-container-id-3 div.sk-dashed-wrapped {border: 1px dashed gray;margin: 0 0.4em 0.5em 0.4em;box-sizing: border-box;padding-bottom: 0.4em;background-color: white;}#sk-container-id-3 div.sk-label label {font-family: monospace;font-weight: bold;display: inline-block;line-height: 1.2em;}#sk-container-id-3 div.sk-label-container {text-align: center;}#sk-container-id-3 div.sk-container {/* jupyter's `normalize.less` sets `[hidden] { display: none; }` but bootstrap.min.css set `[hidden] { display: none !important; }` so we also need the `!important` here to be able to override the default hidden behavior on the sphinx rendered scikit-learn.org. See: https://github.com/scikit-learn/scikit-learn/issues/21755 */display: inline-block !important;position: relative;}#sk-container-id-3 div.sk-text-repr-fallback {display: none;}</style><div id=\"sk-container-id-3\" class=\"sk-top-container\"><div class=\"sk-text-repr-fallback\"><pre>RandomForestClassifier(random_state=42)</pre><b>In a Jupyter environment, please rerun this cell to show the HTML representation or trust the notebook. <br />On GitHub, the HTML representation is unable to render, please try loading this page with nbviewer.org.</b></div><div class=\"sk-container\" hidden><div class=\"sk-item\"><div class=\"sk-estimator sk-toggleable\"><input class=\"sk-toggleable__control sk-hidden--visually\" id=\"sk-estimator-id-3\" type=\"checkbox\" checked><label for=\"sk-estimator-id-3\" class=\"sk-toggleable__label sk-toggleable__label-arrow\">RandomForestClassifier</label><div class=\"sk-toggleable__content\"><pre>RandomForestClassifier(random_state=42)</pre></div></div></div></div></div>"
      ],
      "text/plain": [
       "RandomForestClassifier(random_state=42)"
      ]
     },
     "execution_count": 28,
     "metadata": {},
     "output_type": "execute_result"
    }
   ],
   "source": [
    "from sklearn.ensemble import RandomForestClassifier\n",
    "\n",
    "rdf = RandomForestClassifier(\n",
    "    n_estimators = 100, \n",
    "    random_state = 42\n",
    ")\n",
    "rdf.fit(X_train, Y_train)"
   ]
  },
  {
   "cell_type": "code",
   "execution_count": 29,
   "id": "4f6bcf35",
   "metadata": {},
   "outputs": [],
   "source": [
    "Rfy_pred = rdf.predict(x_test)"
   ]
  },
  {
   "cell_type": "code",
   "execution_count": 30,
   "id": "72f34b59",
   "metadata": {},
   "outputs": [
    {
     "name": "stdout",
     "output_type": "stream",
     "text": [
      "Accuracy RandomForest:  66.28211851074987\n"
     ]
    }
   ],
   "source": [
    "from sklearn.metrics import accuracy_score, confusion_matrix, classification_report\n",
    "\n",
    "rdf_accuracy = accuracy_score(Rfy_pred, y_test)\n",
    "print(\"Accuracy RandomForest: \", rdf_accuracy*100)"
   ]
  },
  {
   "cell_type": "code",
   "execution_count": 31,
   "id": "17f848cd",
   "metadata": {},
   "outputs": [
    {
     "name": "stdout",
     "output_type": "stream",
     "text": [
      "              precision    recall  f1-score   support\n",
      "\n",
      "           0       0.53      0.41      0.47      1358\n",
      "           1       0.71      0.80      0.75      2456\n",
      "\n",
      "    accuracy                           0.66      3814\n",
      "   macro avg       0.62      0.61      0.61      3814\n",
      "weighted avg       0.65      0.66      0.65      3814\n",
      "\n"
     ]
    }
   ],
   "source": [
    "print(classification_report(y_test, Rfy_pred))"
   ]
  },
  {
   "cell_type": "code",
   "execution_count": 32,
   "id": "997578fb",
   "metadata": {
    "scrolled": true
   },
   "outputs": [
    {
     "data": {
      "image/png": "[encoded data removed]",
      "text/plain": [
       "<Figure size 1200x800 with 1 Axes>"
      ]
     },
     "metadata": {},
     "output_type": "display_data"
    }
   ],
   "source": [
    "cm = confusion_matrix(y_test, Rfy_pred)\n",
    "\n",
    "plt.figure(figsize = (12, 8))\n",
    "sns.heatmap(cm, annot = True, fmt ='d' , cmap = \"binary\", cbar = False ,xticklabels=['Class 0', 'Class 1'], yticklabels=['Class 0', 'Class 1'])\n",
    "plt.xlabel(\"Predicated Label\")\n",
    "plt.ylabel(\"Actual Label\")\n",
    "plt.title(\"Random Forest\")\n",
    "plt.show()"
   ]
  },
  {
   "cell_type": "code",
   "execution_count": 54,
   "id": "576eaa0c",
   "metadata": {},
   "outputs": [
    {
     "name": "stdout",
     "output_type": "stream",
     "text": [
      "Randon_F model saved succesfully \n"
     ]
    }
   ],
   "source": [
    "with open(\"randonF_model.pkl\", 'wb') as file:\n",
    "    pickle.dump(rdf, file)\n",
    "    \n",
    "print(\"Randon_F model saved succesfully \")"
   ]
  },
  {
   "cell_type": "markdown",
   "id": "4b4b8b27",
   "metadata": {},
   "source": [
    "### XGBoost"
   ]
  },
  {
   "cell_type": "code",
   "execution_count": 33,
   "id": "d63d4da2",
   "metadata": {},
   "outputs": [
    {
     "name": "stdout",
     "output_type": "stream",
     "text": [
      "Requirement already satisfied: xgboost in ./anaconda3/envs/PythonCourse/lib/python3.10/site-packages (2.1.1)\n",
      "Requirement already satisfied: numpy in ./anaconda3/envs/PythonCourse/lib/python3.10/site-packages (from xgboost) (1.24.3)\n",
      "Requirement already satisfied: scipy in ./anaconda3/envs/PythonCourse/lib/python3.10/site-packages (from xgboost) (1.11.1)\n",
      "\n",
      "\u001b[1m[\u001b[0m\u001b[34;49mnotice\u001b[0m\u001b[1;39;49m]\u001b[0m\u001b[39;49m A new release of pip is available: \u001b[0m\u001b[31;49m24.0\u001b[0m\u001b[39;49m -> \u001b[0m\u001b[32;49m24.2\u001b[0m\n",
      "\u001b[1m[\u001b[0m\u001b[34;49mnotice\u001b[0m\u001b[1;39;49m]\u001b[0m\u001b[39;49m To update, run: \u001b[0m\u001b[32;49mpip install --upgrade pip\u001b[0m\n",
      "Note: you may need to restart the kernel to use updated packages.\n"
     ]
    }
   ],
   "source": [
    "pip install xgboost"
   ]
  },
  {
   "cell_type": "code",
   "execution_count": 34,
   "id": "478f0cf9",
   "metadata": {},
   "outputs": [],
   "source": [
    "import warnings\n",
    "warnings.filterwarnings(\"ignore\", category = UserWarning)"
   ]
  },
  {
   "cell_type": "code",
   "execution_count": 35,
   "id": "8245a478",
   "metadata": {},
   "outputs": [
    {
     "data": {
      "text/html": [
       "<style>#sk-container-id-4 {color: black;}#sk-container-id-4 pre{padding: 0;}#sk-container-id-4 div.sk-toggleable {background-color: white;}#sk-container-id-4 label.sk-toggleable__label {cursor: pointer;display: block;width: 100%;margin-bottom: 0;padding: 0.3em;box-sizing: border-box;text-align: center;}#sk-container-id-4 label.sk-toggleable__label-arrow:before {content: \"▸\";float: left;margin-right: 0.25em;color: #696969;}#sk-container-id-4 label.sk-toggleable__label-arrow:hover:before {color: black;}#sk-container-id-4 div.sk-estimator:hover label.sk-toggleable__label-arrow:before {color: black;}#sk-container-id-4 div.sk-toggleable__content {max-height: 0;max-width: 0;overflow: hidden;text-align: left;background-color: #f0f8ff;}#sk-container-id-4 div.sk-toggleable__content pre {margin: 0.2em;color: black;border-radius: 0.25em;background-color: #f0f8ff;}#sk-container-id-4 input.sk-toggleable__control:checked~div.sk-toggleable__content {max-height: 200px;max-width: 100%;overflow: auto;}#sk-container-id-4 input.sk-toggleable__control:checked~label.sk-toggleable__label-arrow:before {content: \"▾\";}#sk-container-id-4 div.sk-estimator input.sk-toggleable__control:checked~label.sk-toggleable__label {background-color: #d4ebff;}#sk-container-id-4 div.sk-label input.sk-toggleable__control:checked~label.sk-toggleable__label {background-color: #d4ebff;}#sk-container-id-4 input.sk-hidden--visually {border: 0;clip: rect(1px 1px 1px 1px);clip: rect(1px, 1px, 1px, 1px);height: 1px;margin: -1px;overflow: hidden;padding: 0;position: absolute;width: 1px;}#sk-container-id-4 div.sk-estimator {font-family: monospace;background-color: #f0f8ff;border: 1px dotted black;border-radius: 0.25em;box-sizing: border-box;margin-bottom: 0.5em;}#sk-container-id-4 div.sk-estimator:hover {background-color: #d4ebff;}#sk-container-id-4 div.sk-parallel-item::after {content: \"\";width: 100%;border-bottom: 1px solid gray;flex-grow: 1;}#sk-container-id-4 div.sk-label:hover label.sk-toggleable__label {background-color: #d4ebff;}#sk-container-id-4 div.sk-serial::before {content: \"\";position: absolute;border-left: 1px solid gray;box-sizing: border-box;top: 0;bottom: 0;left: 50%;z-index: 0;}#sk-container-id-4 div.sk-serial {display: flex;flex-direction: column;align-items: center;background-color: white;padding-right: 0.2em;padding-left: 0.2em;position: relative;}#sk-container-id-4 div.sk-item {position: relative;z-index: 1;}#sk-container-id-4 div.sk-parallel {display: flex;align-items: stretch;justify-content: center;background-color: white;position: relative;}#sk-container-id-4 div.sk-item::before, #sk-container-id-4 div.sk-parallel-item::before {content: \"\";position: absolute;border-left: 1px solid gray;box-sizing: border-box;top: 0;bottom: 0;left: 50%;z-index: -1;}#sk-container-id-4 div.sk-parallel-item {display: flex;flex-direction: column;z-index: 1;position: relative;background-color: white;}#sk-container-id-4 div.sk-parallel-item:first-child::after {align-self: flex-end;width: 50%;}#sk-container-id-4 div.sk-parallel-item:last-child::after {align-self: flex-start;width: 50%;}#sk-container-id-4 div.sk-parallel-item:only-child::after {width: 0;}#sk-container-id-4 div.sk-dashed-wrapped {border: 1px dashed gray;margin: 0 0.4em 0.5em 0.4em;box-sizing: border-box;padding-bottom: 0.4em;background-color: white;}#sk-container-id-4 div.sk-label label {font-family: monospace;font-weight: bold;display: inline-block;line-height: 1.2em;}#sk-container-id-4 div.sk-label-container {text-align: center;}#sk-container-id-4 div.sk-container {/* jupyter's `normalize.less` sets `[hidden] { display: none; }` but bootstrap.min.css set `[hidden] { display: none !important; }` so we also need the `!important` here to be able to override the default hidden behavior on the sphinx rendered scikit-learn.org. See: https://github.com/scikit-learn/scikit-learn/issues/21755 */display: inline-block !important;position: relative;}#sk-container-id-4 div.sk-text-repr-fallback {display: none;}</style><div id=\"sk-container-id-4\" class=\"sk-top-container\"><div class=\"sk-text-repr-fallback\"><pre>XGBClassifier(base_score=None, booster=None, callbacks=None,\n",
       "              colsample_bylevel=None, colsample_bynode=None,\n",
       "              colsample_bytree=None, device=None, early_stopping_rounds=None,\n",
       "              enable_categorical=False, eval_metric=&#x27;logloss&#x27;,\n",
       "              feature_types=None, gamma=None, grow_policy=None,\n",
       "              importance_type=None, interaction_constraints=None,\n",
       "              learning_rate=None, max_bin=None, max_cat_threshold=None,\n",
       "              max_cat_to_onehot=None, max_delta_step=None, max_depth=None,\n",
       "              max_leaves=None, min_child_weight=None, missing=nan,\n",
       "              monotone_constraints=None, multi_strategy=None, n_estimators=100,\n",
       "              n_jobs=None, num_parallel_tree=None, random_state=42, ...)</pre><b>In a Jupyter environment, please rerun this cell to show the HTML representation or trust the notebook. <br />On GitHub, the HTML representation is unable to render, please try loading this page with nbviewer.org.</b></div><div class=\"sk-container\" hidden><div class=\"sk-item\"><div class=\"sk-estimator sk-toggleable\"><input class=\"sk-toggleable__control sk-hidden--visually\" id=\"sk-estimator-id-4\" type=\"checkbox\" checked><label for=\"sk-estimator-id-4\" class=\"sk-toggleable__label sk-toggleable__label-arrow\">XGBClassifier</label><div class=\"sk-toggleable__content\"><pre>XGBClassifier(base_score=None, booster=None, callbacks=None,\n",
       "              colsample_bylevel=None, colsample_bynode=None,\n",
       "              colsample_bytree=None, device=None, early_stopping_rounds=None,\n",
       "              enable_categorical=False, eval_metric=&#x27;logloss&#x27;,\n",
       "              feature_types=None, gamma=None, grow_policy=None,\n",
       "              importance_type=None, interaction_constraints=None,\n",
       "              learning_rate=None, max_bin=None, max_cat_threshold=None,\n",
       "              max_cat_to_onehot=None, max_delta_step=None, max_depth=None,\n",
       "              max_leaves=None, min_child_weight=None, missing=nan,\n",
       "              monotone_constraints=None, multi_strategy=None, n_estimators=100,\n",
       "              n_jobs=None, num_parallel_tree=None, random_state=42, ...)</pre></div></div></div></div></div>"
      ],
      "text/plain": [
       "XGBClassifier(base_score=None, booster=None, callbacks=None,\n",
       "              colsample_bylevel=None, colsample_bynode=None,\n",
       "              colsample_bytree=None, device=None, early_stopping_rounds=None,\n",
       "              enable_categorical=False, eval_metric='logloss',\n",
       "              feature_types=None, gamma=None, grow_policy=None,\n",
       "              importance_type=None, interaction_constraints=None,\n",
       "              learning_rate=None, max_bin=None, max_cat_threshold=None,\n",
       "              max_cat_to_onehot=None, max_delta_step=None, max_depth=None,\n",
       "              max_leaves=None, min_child_weight=None, missing=nan,\n",
       "              monotone_constraints=None, multi_strategy=None, n_estimators=100,\n",
       "              n_jobs=None, num_parallel_tree=None, random_state=42, ...)"
      ]
     },
     "execution_count": 35,
     "metadata": {},
     "output_type": "execute_result"
    }
   ],
   "source": [
    "import xgboost as xgb\n",
    "from xgboost import XGBClassifier\n",
    "\n",
    "xgb = XGBClassifier(\n",
    "    n_estimators = 100, \n",
    "    random_state = 42, \n",
    "    use_label_encoder=False, \n",
    "    eval_metric = 'logloss' \n",
    ")\n",
    "xgb.fit(X_train, Y_train)\n"
   ]
  },
  {
   "cell_type": "code",
   "execution_count": 36,
   "id": "f196aa0c",
   "metadata": {},
   "outputs": [],
   "source": [
    "xgbY_pred = xgb.predict(x_test)"
   ]
  },
  {
   "cell_type": "code",
   "execution_count": 37,
   "id": "ce108d88",
   "metadata": {},
   "outputs": [
    {
     "name": "stdout",
     "output_type": "stream",
     "text": [
      "Accuracy XGBoost : 65.04981646565285\n"
     ]
    }
   ],
   "source": [
    "xgb_accuracy = accuracy_score(xgbY_pred, y_test)\n",
    "print(\"Accuracy XGBoost :\",xgb_accuracy*100)"
   ]
  },
  {
   "cell_type": "code",
   "execution_count": 38,
   "id": "abff8414",
   "metadata": {},
   "outputs": [
    {
     "name": "stdout",
     "output_type": "stream",
     "text": [
      "Classification Report:\n",
      "              precision    recall  f1-score   support\n",
      "\n",
      "           0       0.51      0.38      0.44      1358\n",
      "           1       0.70      0.80      0.75      2456\n",
      "\n",
      "    accuracy                           0.65      3814\n",
      "   macro avg       0.61      0.59      0.59      3814\n",
      "weighted avg       0.63      0.65      0.64      3814\n",
      "\n"
     ]
    }
   ],
   "source": [
    "print(\"Classification Report:\")\n",
    "print(classification_report(y_test, xgbY_pred))"
   ]
  },
  {
   "cell_type": "code",
   "execution_count": 39,
   "id": "7fedb1f8",
   "metadata": {
    "scrolled": true
   },
   "outputs": [
    {
     "data": {
      "image/png": "[encoded data removed]",
      "text/plain": [
       "<Figure size 1200x800 with 1 Axes>"
      ]
     },
     "metadata": {},
     "output_type": "display_data"
    }
   ],
   "source": [
    "cm = confusion_matrix(y_test, xgbY_pred)\n",
    "\n",
    "plt.figure(figsize = (12, 8))\n",
    "sns.heatmap(cm, annot = True, fmt ='d' , cmap = \"binary\", cbar = False ,xticklabels=['Class 0', 'Class 1'], yticklabels=['Class 0', 'Class 1'])\n",
    "plt.xlabel(\"Predicated Label\")\n",
    "plt.ylabel(\"Actual Label\")\n",
    "plt.title(\"XGBoost\")\n",
    "plt.show()"
   ]
  },
  {
   "cell_type": "code",
   "execution_count": 53,
   "id": "be678a37",
   "metadata": {},
   "outputs": [
    {
     "name": "stdout",
     "output_type": "stream",
     "text": [
      "XBoost Model saved successfully\n"
     ]
    }
   ],
   "source": [
    "with open(\"Xboost_model.pkl\", 'wb') as file:\n",
    "    pickle.dump(xgb, file)\n",
    "\n",
    "print(\"XBoost Model saved successfully\")"
   ]
  },
  {
   "cell_type": "code",
   "execution_count": 40,
   "id": "3ffba338",
   "metadata": {},
   "outputs": [
    {
     "name": "stdout",
     "output_type": "stream",
     "text": [
      "KNN Accuracy: 65.5742003146303\n",
      "SVM Accuracy: 66.59674882013634\n",
      "Random Forest Accuracy: 66.28211851074987\n",
      "XGBoost Accuracy: 65.04981646565285\n"
     ]
    }
   ],
   "source": [
    "print(f\"KNN Accuracy: {Knn_accuracy*100}\")\n",
    "print(f\"SVM Accuracy: {svm_accuracy*100}\")\n",
    "print(f\"Random Forest Accuracy: {rdf_accuracy*100}\")\n",
    "print(f\"XGBoost Accuracy: {xgb_accuracy*100}\")"
   ]
  },
  {
   "cell_type": "code",
   "execution_count": 48,
   "id": "9b57bf0a",
   "metadata": {},
   "outputs": [
    {
     "name": "stdout",
     "output_type": "stream",
     "text": [
      "Model saved successfully\n"
     ]
    }
   ],
   "source": [
    "import pickle\n",
    "\n",
    "with open(\"svm_model.pkl\", 'wb') as file:\n",
    "    pickle.dump(svm, file)\n",
    "\n",
    "print(\"Model saved successfully\")"
   ]
  },
  {
   "cell_type": "markdown",
   "id": "ebad0c88",
   "metadata": {},
   "source": [
    "# ⚠️ Only for developers"
   ]
  },
  {
   "cell_type": "markdown",
   "id": "6897bbec",
   "metadata": {},
   "source": [
    "### Testing with custom input data.. Engine health check"
   ]
  },
  {
   "cell_type": "code",
   "execution_count": 76,
   "id": "3fc5bd80",
   "metadata": {},
   "outputs": [
    {
     "name": "stdout",
     "output_type": "stream",
     "text": [
      "Enter Engine rpm: 1000\n",
      "Enter Lub oil pressure: 4\n",
      "Enter Fuel pressure: 5\n",
      "Enter Coolant pressure: 4\n",
      "Enter Lub oil temp: 78\n",
      "Enter Coolant temp: 80\n",
      "Enter model name: knn\n",
      "Engine is in good health\n",
      "Engine is in good health\n",
      "\n",
      "Input Log saved to 'engine_health_log.csv'\n"
     ]
    }
   ],
   "source": [
    "import pandas as pd\n",
    "import numpy as np\n",
    "\n",
    "try:\n",
    "    input_log = pd.read_csv('engine_health_log.csv')\n",
    "except FileNotFoundError:\n",
    "    input_log = pd.DataFrame(\n",
    "        columns=['Engine rpm',                    \n",
    "                 'Lub oil pressure',              \n",
    "                 'Fuel pressure',                        \n",
    "                 'Coolant pressure',                    \n",
    "                 'Lub oil temp',                \n",
    "                 'Coolant temp',               \n",
    "                 'Engine condition'                              \n",
    "])\n",
    "def predict_engine_health(input_data, model, scaler, log_df):\n",
    "    input_array = np.array(input_data).reshape(1, -1)\n",
    "    \n",
    "    input_scaled = scaler.transform(input_array)\n",
    "    \n",
    "    prediction = model.predict(input_scaled)\n",
    "    \n",
    "    if prediction[0] == 0:\n",
    "        Health_status = \"Engine is in good health\"\n",
    "    else:\n",
    "        Health_status = \"Engine is not in good health\"  \n",
    "        \n",
    "    print(Health_status)\n",
    "    \n",
    "    input_data.append(prediction[0])\n",
    "    log_df.loc[len(log_df)] = input_data\n",
    "    \n",
    "    return Health_status\n",
    "        \n",
    "input_data = [\n",
    "    float(input(\"Enter Engine rpm: \")),\n",
    "    float(input(\"Enter Lub oil pressure: \")),\n",
    "    float(input(\"Enter Fuel pressure: \")),\n",
    "    float(input(\"Enter Coolant pressure: \")),\n",
    "    float(input(\"Enter Lub oil temp: \")),\n",
    "    float(input(\"Enter Coolant temp: \"))\n",
    "]\n",
    "model_choice = input(\"Enter model name: \" ).strip().lower()\n",
    "\n",
    "if model_choice == \"knn\":\n",
    "    model = knn\n",
    "elif model_choice == \"svm\":\n",
    "    model = svm\n",
    "elif model_choice == \"randomforest\":\n",
    "    model = rdf\n",
    "elif model_choice == \"xgboost\":\n",
    "    model = xgb\n",
    "else:\n",
    "    print(\"Invalid model name\")\n",
    "    model = None\n",
    "\n",
    "if model:    \n",
    "    result = predict_engine_health(input_data, model, scaler, input_log)\n",
    "    print(result)\n",
    "    \n",
    "input_log.to_csv(\"Engine_health_log.csv\", index = False)\n",
    "print(\"\\nInput Log saved to 'engine_health_log.csv'\")"
   ]
  },
  {
   "cell_type": "code",
   "execution_count": 77,
   "id": "0e241e8d",
   "metadata": {},
   "outputs": [
    {
     "data": {
      "text/html": [
       "<div>\n",
       "<style scoped>\n",
       "    .dataframe tbody tr th:only-of-type {\n",
       "        vertical-align: middle;\n",
       "    }\n",
       "\n",
       "    .dataframe tbody tr th {\n",
       "        vertical-align: top;\n",
       "    }\n",
       "\n",
       "    .dataframe thead th {\n",
       "        text-align: right;\n",
       "    }\n",
       "</style>\n",
       "<table border=\"1\" class=\"dataframe\">\n",
       "  <thead>\n",
       "    <tr style=\"text-align: right;\">\n",
       "      <th></th>\n",
       "      <th>Engine rpm</th>\n",
       "      <th>Lub oil pressure</th>\n",
       "      <th>Fuel pressure</th>\n",
       "      <th>Coolant pressure</th>\n",
       "      <th>Lub oil temp</th>\n",
       "      <th>Coolant temp</th>\n",
       "      <th>Engine condition</th>\n",
       "    </tr>\n",
       "  </thead>\n",
       "  <tbody>\n",
       "    <tr>\n",
       "      <th>0</th>\n",
       "      <td>800.0</td>\n",
       "      <td>3.4</td>\n",
       "      <td>4.0</td>\n",
       "      <td>4.0</td>\n",
       "      <td>75.0</td>\n",
       "      <td>76.0</td>\n",
       "      <td>1.0</td>\n",
       "    </tr>\n",
       "    <tr>\n",
       "      <th>1</th>\n",
       "      <td>800.0</td>\n",
       "      <td>4.0</td>\n",
       "      <td>5.0</td>\n",
       "      <td>6.0</td>\n",
       "      <td>74.0</td>\n",
       "      <td>80.0</td>\n",
       "      <td>1.0</td>\n",
       "    </tr>\n",
       "    <tr>\n",
       "      <th>2</th>\n",
       "      <td>800.0</td>\n",
       "      <td>5.0</td>\n",
       "      <td>6.0</td>\n",
       "      <td>4.0</td>\n",
       "      <td>76.0</td>\n",
       "      <td>70.0</td>\n",
       "      <td>1.0</td>\n",
       "    </tr>\n",
       "    <tr>\n",
       "      <th>3</th>\n",
       "      <td>1000.0</td>\n",
       "      <td>4.0</td>\n",
       "      <td>5.0</td>\n",
       "      <td>4.0</td>\n",
       "      <td>78.0</td>\n",
       "      <td>80.0</td>\n",
       "      <td>0.0</td>\n",
       "    </tr>\n",
       "  </tbody>\n",
       "</table>\n",
       "</div>"
      ],
      "text/plain": [
       "   Engine rpm  Lub oil pressure  Fuel pressure  Coolant pressure  \\\n",
       "0       800.0               3.4            4.0               4.0   \n",
       "1       800.0               4.0            5.0               6.0   \n",
       "2       800.0               5.0            6.0               4.0   \n",
       "3      1000.0               4.0            5.0               4.0   \n",
       "\n",
       "   Lub oil temp  Coolant temp  Engine condition  \n",
       "0          75.0          76.0               1.0  \n",
       "1          74.0          80.0               1.0  \n",
       "2          76.0          70.0               1.0  \n",
       "3          78.0          80.0               0.0  "
      ]
     },
     "execution_count": 77,
     "metadata": {},
     "output_type": "execute_result"
    }
   ],
   "source": [
    "input_log"
   ]
  },
  {
   "cell_type": "markdown",
   "id": "6e1092c0",
   "metadata": {},
   "source": [
    "# 🏁  🏁  🏁  🏁  🏁  🏁  🏁 - FINISH - 🏁  🏁  🏁  🏁  🏁  🏁  🏁"
   ]
  }
 ],
 "metadata": {
  "kernelspec": {
   "display_name": "Python 3 (ipykernel)",
   "language": "python",
   "name": "python3"
  },
  "language_info": {
   "codemirror_mode": {
    "name": "ipython",
    "version": 3
   },
   "file_extension": ".py",
   "mimetype": "text/x-python",
   "name": "python",
   "nbconvert_exporter": "python",
   "pygments_lexer": "ipython3",
   "version": "3.10.11"
  }
 },
 "nbformat": 4,
 "nbformat_minor": 5
}
